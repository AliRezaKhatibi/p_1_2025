{
 "cells": [
  {
   "cell_type": "code",
   "execution_count": 1,
   "id": "e5bbf5db-d550-4f01-b453-77ed6380db04",
   "metadata": {},
   "outputs": [],
   "source": [
    "import numpy as np"
   ]
  },
  {
   "cell_type": "code",
   "execution_count": 8,
   "id": "cdc3263b-af55-4b80-ae30-32e8001ac287",
   "metadata": {},
   "outputs": [],
   "source": [
    "# 1. داده‌های ورودی و خروجی\n",
    "X = np.array([[0, 0], [0, 1], [1, 0], [1, 1]])  # داده‌های ورودی (AND)\n",
    "y = np.array([[0], [1], [1],\n",
    "              [0]])             # خروجی (XOR)"
   ]
  },
  {
   "cell_type": "code",
   "execution_count": 3,
   "id": "31d878fb-a858-4700-8ab0-f8417a1efde3",
   "metadata": {},
   "outputs": [],
   "source": [
    "# 2. مقداردهی اولیه وزن‌ها و بایاس‌ها\n",
    "np.random.seed(42)\n",
    "input_dim = 2\n",
    "hidden_dim = 4\n",
    "output_dim = 1"
   ]
  },
  {
   "cell_type": "code",
   "execution_count": 37,
   "id": "7f6de1f5-bcd8-46fb-b0f1-a34b07296699",
   "metadata": {},
   "outputs": [],
   "source": [
    "W1 = np.random.randn(input_dim, hidden_dim)  # وزن‌های لایه ورودی به پنهان\n",
    "b1 = np.zeros((1, hidden_dim))               # بایاس لایه پنهان\n",
    "W2 = np.random.randn(hidden_dim, output_dim) # وزن‌های لایه پنهان به خروجی\n",
    "b2 = np.zeros((1, output_dim))               # بایاس لایه خروجی"
   ]
  },
  {
   "cell_type": "code",
   "execution_count": 16,
   "id": "2e5c56f0-755f-4acf-a6c0-1f03dc00c0ae",
   "metadata": {},
   "outputs": [],
   "source": [
    "# 3. توابع فعال‌سازی\n",
    "def sigmoid(x):\n",
    "    return 1 / (1 + np.exp(-x))\n",
    "\n",
    "def sigmoid_derivative(x):\n",
    "    return x * (1 - x)"
   ]
  },
  {
   "cell_type": "code",
   "execution_count": 97,
   "id": "15e6fa0a-e14e-4376-866f-475984aad08a",
   "metadata": {},
   "outputs": [
    {
     "name": "stdout",
     "output_type": "stream",
     "text": [
      "Epoch 0, Loss: 0.0001\n",
      "Epoch 1000, Loss: 0.0001\n",
      "Epoch 2000, Loss: 0.0001\n",
      "Epoch 3000, Loss: 0.0001\n",
      "Epoch 4000, Loss: 0.0001\n",
      "Epoch 5000, Loss: 0.0001\n",
      "Epoch 6000, Loss: 0.0001\n",
      "Epoch 7000, Loss: 0.0001\n",
      "Epoch 8000, Loss: 0.0001\n",
      "Epoch 9000, Loss: 0.0001\n"
     ]
    }
   ],
   "source": [
    "# 4. آموزش مدل\n",
    "learning_rate = 0.1\n",
    "epochs = 10000\n",
    "\n",
    "for epoch in range(epochs):\n",
    "    # Forward Propagation\n",
    "    Z1 = np.dot(X, W1) + b1\n",
    "    A1 = sigmoid(Z1)\n",
    "    Z2 = np.dot(A1, W2) + b2\n",
    "    A2 = sigmoid(Z2)\n",
    "\n",
    "    # خطا\n",
    "    loss = np.mean((y - A2)**2)\n",
    "\n",
    "    # Backward Propagation\n",
    "    dA2 = A2 - y\n",
    "    dZ2 = dA2 * sigmoid_derivative(A2)\n",
    "    dW2 = np.dot(A1.T, dZ2)\n",
    "    db2 = np.sum(dZ2, axis=0, keepdims=True)\n",
    "\n",
    "    dA1 = np.dot(dZ2, W2.T)\n",
    "    dZ1 = dA1 * sigmoid_derivative(A1)\n",
    "    dW1 = np.dot(X.T, dZ1)\n",
    "    db1 = np.sum(dZ1, axis=0, keepdims=True)\n",
    "\n",
    "    # به‌روزرسانی وزن‌ها و بایاس‌ها\n",
    "    W2 -= learning_rate * dW2\n",
    "    b2 -= learning_rate * db2\n",
    "    W1 -= learning_rate * dW1\n",
    "    b1 -= learning_rate * db1\n",
    "    \n",
    "    # نمایش خطا در هر 1000 تکرار\n",
    "    if epoch % 1000 == 0:\n",
    "        print(f\"Epoch {epoch}, Loss: {loss:.4f}\")"
   ]
  },
  {
   "cell_type": "code",
   "execution_count": 98,
   "id": "dabfc628-b38b-48e1-9de8-01e7cb6ed104",
   "metadata": {},
   "outputs": [
    {
     "name": "stdout",
     "output_type": "stream",
     "text": [
      "Predictions:\n",
      "[[0]\n",
      " [1]\n",
      " [1]\n",
      " [0]]\n"
     ]
    }
   ],
   "source": [
    "# 5. پیش‌بینی نهایی\n",
    "def predict(X):\n",
    "    Z1 = np.dot(X, W1) + b1\n",
    "    A1 = sigmoid(Z1)\n",
    "    Z2 = np.dot(A1, W2) + b2\n",
    "    A2 = sigmoid(Z2)\n",
    "    return (A2 > 0.5).astype(int)\n",
    "\n",
    "print(\"Predictions:\")\n",
    "print(predict(X))"
   ]
  },
  {
   "cell_type": "code",
   "execution_count": 99,
   "id": "e30ce615-9bab-4313-ba20-2ff4b7cc9312",
   "metadata": {},
   "outputs": [
    {
     "data": {
      "text/plain": [
       "array([[0],\n",
       "       [0],\n",
       "       [0],\n",
       "       [0]])"
      ]
     },
     "execution_count": 99,
     "metadata": {},
     "output_type": "execute_result"
    }
   ],
   "source": [
    "X_1 = np.array([[1, 1], [0, 0], [1, 1], [1, 1]])\n",
    "predict(X_1)"
   ]
  },
  {
   "cell_type": "code",
   "execution_count": 100,
   "id": "5517eced-e79e-44a1-8688-2d5a0be2f574",
   "metadata": {},
   "outputs": [
    {
     "data": {
      "text/plain": [
       "array([[1],\n",
       "       [1],\n",
       "       [1],\n",
       "       [1]])"
      ]
     },
     "execution_count": 100,
     "metadata": {},
     "output_type": "execute_result"
    }
   ],
   "source": [
    "X_2 = np.array([[0, 1], [1, 0], [1,0], [1, 0]])\n",
    "predict(X_2)"
   ]
  },
  {
   "cell_type": "code",
   "execution_count": null,
   "id": "d4da4e1f-e9cb-4eaa-8d24-cc74bb9efd20",
   "metadata": {},
   "outputs": [],
   "source": [
    "X_3 = np.array([[0, 1], [1, 0], [1,0], [1, 0]])\n",
    "predict(X_3)"
   ]
  }
 ],
 "metadata": {
  "kernelspec": {
   "display_name": "Python 3 (ipykernel)",
   "language": "python",
   "name": "python3"
  },
  "language_info": {
   "codemirror_mode": {
    "name": "ipython",
    "version": 3
   },
   "file_extension": ".py",
   "mimetype": "text/x-python",
   "name": "python",
   "nbconvert_exporter": "python",
   "pygments_lexer": "ipython3",
   "version": "3.12.7"
  }
 },
 "nbformat": 4,
 "nbformat_minor": 5
}
